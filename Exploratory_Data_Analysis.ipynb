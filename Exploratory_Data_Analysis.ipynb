{
  "nbformat": 4,
  "nbformat_minor": 0,
  "metadata": {
    "colab": {
      "provenance": []
    },
    "kernelspec": {
      "name": "python3",
      "display_name": "Python 3"
    },
    "language_info": {
      "name": "python"
    }
  },
  "cells": [
    {
      "cell_type": "markdown",
      "source": [
        "**Exploratory Data Analysis**:"
      ],
      "metadata": {
        "id": "2eV_5NXa6ooi"
      }
    },
    {
      "cell_type": "code",
      "execution_count": null,
      "metadata": {
        "id": "QIbtc8lL6iIa"
      },
      "outputs": [],
      "source": [
        "# import the flightdata.csv from google drive\n",
        "\n",
        "from google.colab import drive\n",
        "drive.mount('/content/drive')"
      ]
    },
    {
      "cell_type": "code",
      "source": [
        "\n",
        "import pandas as pd\n",
        "import numpy as np\n",
        "import pickle\n",
        "import matplotlib.pyplot as plt\n",
        "%matplotlib inline\n",
        "\n",
        "import seaborn as sns\n",
        "import sklearn\n",
        "from sklearn.tree  import DecisionTreeClassifier\n",
        "from sklearn.ensemble import GradientBoostingClassifier, RandomForestClassifier\n",
        "from sklearn.neighbors import KNeighborsClassifier\n",
        "from sklearn.model_selection import RandomizedSearchCV\n",
        "import imblearn\n",
        "from sklearn.model_selection import train_test_split\n",
        "from sklearn.preprocessing import StandardScaler\n",
        "from sklearn.metrics import accuracy_score, classification_report, confusion_matrix, f1_score\n",
        "\n"
      ],
      "metadata": {
        "id": "z0FFsjU_7T8y"
      },
      "execution_count": null,
      "outputs": []
    },
    {
      "cell_type": "code",
      "source": [
        "dataset= pd.read_csv(\"/content/flightdata.csv\")\n",
        "dataset.head()\n"
      ],
      "metadata": {
        "colab": {
          "base_uri": "https://localhost:8080/",
          "height": 317
        },
        "id": "uRQPVem888BO",
        "outputId": "1bdc6be5-f77e-42e4-818e-0ee7dc6dfac5"
      },
      "execution_count": null,
      "outputs": [
        {
          "output_type": "execute_result",
          "data": {
            "text/plain": [
              "   YEAR  QUARTER  MONTH  DAY_OF_MONTH  DAY_OF_WEEK UNIQUE_CARRIER TAIL_NUM  \\\n",
              "0  2016        1      1             1            5             DL   N836DN   \n",
              "1  2016        1      1             1            5             DL   N964DN   \n",
              "2  2016        1      1             1            5             DL   N813DN   \n",
              "3  2016        1      1             1            5             DL   N587NW   \n",
              "4  2016        1      1             1            5             DL   N836DN   \n",
              "\n",
              "   FL_NUM  ORIGIN_AIRPORT_ID ORIGIN  ...  CRS_ARR_TIME ARR_TIME  ARR_DELAY  \\\n",
              "0    1399              10397    ATL  ...          2143   2102.0      -41.0   \n",
              "1    1476              11433    DTW  ...          1435   1439.0        4.0   \n",
              "2    1597              10397    ATL  ...          1215   1142.0      -33.0   \n",
              "3    1768              14747    SEA  ...          1335   1345.0       10.0   \n",
              "4    1823              14747    SEA  ...           607    615.0        8.0   \n",
              "\n",
              "   ARR_DEL15  CANCELLED  DIVERTED  CRS_ELAPSED_TIME  ACTUAL_ELAPSED_TIME  \\\n",
              "0        0.0        0.0       0.0             338.0                295.0   \n",
              "1        0.0        0.0       0.0             110.0                115.0   \n",
              "2        0.0        0.0       0.0             335.0                300.0   \n",
              "3        0.0        0.0       0.0             196.0                205.0   \n",
              "4        0.0        0.0       0.0             247.0                259.0   \n",
              "\n",
              "   DISTANCE  Unnamed: 25  \n",
              "0    2182.0          NaN  \n",
              "1     528.0          NaN  \n",
              "2    2182.0          NaN  \n",
              "3    1399.0          NaN  \n",
              "4    1927.0          NaN  \n",
              "\n",
              "[5 rows x 26 columns]"
            ],
            "text/html": [
              "\n",
              "  <div id=\"df-9ceae6f6-fc80-485e-a98c-22ffc8dbfed3\">\n",
              "    <div class=\"colab-df-container\">\n",
              "      <div>\n",
              "<style scoped>\n",
              "    .dataframe tbody tr th:only-of-type {\n",
              "        vertical-align: middle;\n",
              "    }\n",
              "\n",
              "    .dataframe tbody tr th {\n",
              "        vertical-align: top;\n",
              "    }\n",
              "\n",
              "    .dataframe thead th {\n",
              "        text-align: right;\n",
              "    }\n",
              "</style>\n",
              "<table border=\"1\" class=\"dataframe\">\n",
              "  <thead>\n",
              "    <tr style=\"text-align: right;\">\n",
              "      <th></th>\n",
              "      <th>YEAR</th>\n",
              "      <th>QUARTER</th>\n",
              "      <th>MONTH</th>\n",
              "      <th>DAY_OF_MONTH</th>\n",
              "      <th>DAY_OF_WEEK</th>\n",
              "      <th>UNIQUE_CARRIER</th>\n",
              "      <th>TAIL_NUM</th>\n",
              "      <th>FL_NUM</th>\n",
              "      <th>ORIGIN_AIRPORT_ID</th>\n",
              "      <th>ORIGIN</th>\n",
              "      <th>...</th>\n",
              "      <th>CRS_ARR_TIME</th>\n",
              "      <th>ARR_TIME</th>\n",
              "      <th>ARR_DELAY</th>\n",
              "      <th>ARR_DEL15</th>\n",
              "      <th>CANCELLED</th>\n",
              "      <th>DIVERTED</th>\n",
              "      <th>CRS_ELAPSED_TIME</th>\n",
              "      <th>ACTUAL_ELAPSED_TIME</th>\n",
              "      <th>DISTANCE</th>\n",
              "      <th>Unnamed: 25</th>\n",
              "    </tr>\n",
              "  </thead>\n",
              "  <tbody>\n",
              "    <tr>\n",
              "      <th>0</th>\n",
              "      <td>2016</td>\n",
              "      <td>1</td>\n",
              "      <td>1</td>\n",
              "      <td>1</td>\n",
              "      <td>5</td>\n",
              "      <td>DL</td>\n",
              "      <td>N836DN</td>\n",
              "      <td>1399</td>\n",
              "      <td>10397</td>\n",
              "      <td>ATL</td>\n",
              "      <td>...</td>\n",
              "      <td>2143</td>\n",
              "      <td>2102.0</td>\n",
              "      <td>-41.0</td>\n",
              "      <td>0.0</td>\n",
              "      <td>0.0</td>\n",
              "      <td>0.0</td>\n",
              "      <td>338.0</td>\n",
              "      <td>295.0</td>\n",
              "      <td>2182.0</td>\n",
              "      <td>NaN</td>\n",
              "    </tr>\n",
              "    <tr>\n",
              "      <th>1</th>\n",
              "      <td>2016</td>\n",
              "      <td>1</td>\n",
              "      <td>1</td>\n",
              "      <td>1</td>\n",
              "      <td>5</td>\n",
              "      <td>DL</td>\n",
              "      <td>N964DN</td>\n",
              "      <td>1476</td>\n",
              "      <td>11433</td>\n",
              "      <td>DTW</td>\n",
              "      <td>...</td>\n",
              "      <td>1435</td>\n",
              "      <td>1439.0</td>\n",
              "      <td>4.0</td>\n",
              "      <td>0.0</td>\n",
              "      <td>0.0</td>\n",
              "      <td>0.0</td>\n",
              "      <td>110.0</td>\n",
              "      <td>115.0</td>\n",
              "      <td>528.0</td>\n",
              "      <td>NaN</td>\n",
              "    </tr>\n",
              "    <tr>\n",
              "      <th>2</th>\n",
              "      <td>2016</td>\n",
              "      <td>1</td>\n",
              "      <td>1</td>\n",
              "      <td>1</td>\n",
              "      <td>5</td>\n",
              "      <td>DL</td>\n",
              "      <td>N813DN</td>\n",
              "      <td>1597</td>\n",
              "      <td>10397</td>\n",
              "      <td>ATL</td>\n",
              "      <td>...</td>\n",
              "      <td>1215</td>\n",
              "      <td>1142.0</td>\n",
              "      <td>-33.0</td>\n",
              "      <td>0.0</td>\n",
              "      <td>0.0</td>\n",
              "      <td>0.0</td>\n",
              "      <td>335.0</td>\n",
              "      <td>300.0</td>\n",
              "      <td>2182.0</td>\n",
              "      <td>NaN</td>\n",
              "    </tr>\n",
              "    <tr>\n",
              "      <th>3</th>\n",
              "      <td>2016</td>\n",
              "      <td>1</td>\n",
              "      <td>1</td>\n",
              "      <td>1</td>\n",
              "      <td>5</td>\n",
              "      <td>DL</td>\n",
              "      <td>N587NW</td>\n",
              "      <td>1768</td>\n",
              "      <td>14747</td>\n",
              "      <td>SEA</td>\n",
              "      <td>...</td>\n",
              "      <td>1335</td>\n",
              "      <td>1345.0</td>\n",
              "      <td>10.0</td>\n",
              "      <td>0.0</td>\n",
              "      <td>0.0</td>\n",
              "      <td>0.0</td>\n",
              "      <td>196.0</td>\n",
              "      <td>205.0</td>\n",
              "      <td>1399.0</td>\n",
              "      <td>NaN</td>\n",
              "    </tr>\n",
              "    <tr>\n",
              "      <th>4</th>\n",
              "      <td>2016</td>\n",
              "      <td>1</td>\n",
              "      <td>1</td>\n",
              "      <td>1</td>\n",
              "      <td>5</td>\n",
              "      <td>DL</td>\n",
              "      <td>N836DN</td>\n",
              "      <td>1823</td>\n",
              "      <td>14747</td>\n",
              "      <td>SEA</td>\n",
              "      <td>...</td>\n",
              "      <td>607</td>\n",
              "      <td>615.0</td>\n",
              "      <td>8.0</td>\n",
              "      <td>0.0</td>\n",
              "      <td>0.0</td>\n",
              "      <td>0.0</td>\n",
              "      <td>247.0</td>\n",
              "      <td>259.0</td>\n",
              "      <td>1927.0</td>\n",
              "      <td>NaN</td>\n",
              "    </tr>\n",
              "  </tbody>\n",
              "</table>\n",
              "<p>5 rows × 26 columns</p>\n",
              "</div>\n",
              "      <button class=\"colab-df-convert\" onclick=\"convertToInteractive('df-9ceae6f6-fc80-485e-a98c-22ffc8dbfed3')\"\n",
              "              title=\"Convert this dataframe to an interactive table.\"\n",
              "              style=\"display:none;\">\n",
              "        \n",
              "  <svg xmlns=\"http://www.w3.org/2000/svg\" height=\"24px\"viewBox=\"0 0 24 24\"\n",
              "       width=\"24px\">\n",
              "    <path d=\"M0 0h24v24H0V0z\" fill=\"none\"/>\n",
              "    <path d=\"M18.56 5.44l.94 2.06.94-2.06 2.06-.94-2.06-.94-.94-2.06-.94 2.06-2.06.94zm-11 1L8.5 8.5l.94-2.06 2.06-.94-2.06-.94L8.5 2.5l-.94 2.06-2.06.94zm10 10l.94 2.06.94-2.06 2.06-.94-2.06-.94-.94-2.06-.94 2.06-2.06.94z\"/><path d=\"M17.41 7.96l-1.37-1.37c-.4-.4-.92-.59-1.43-.59-.52 0-1.04.2-1.43.59L10.3 9.45l-7.72 7.72c-.78.78-.78 2.05 0 2.83L4 21.41c.39.39.9.59 1.41.59.51 0 1.02-.2 1.41-.59l7.78-7.78 2.81-2.81c.8-.78.8-2.07 0-2.86zM5.41 20L4 18.59l7.72-7.72 1.47 1.35L5.41 20z\"/>\n",
              "  </svg>\n",
              "      </button>\n",
              "      \n",
              "  <style>\n",
              "    .colab-df-container {\n",
              "      display:flex;\n",
              "      flex-wrap:wrap;\n",
              "      gap: 12px;\n",
              "    }\n",
              "\n",
              "    .colab-df-convert {\n",
              "      background-color: #E8F0FE;\n",
              "      border: none;\n",
              "      border-radius: 50%;\n",
              "      cursor: pointer;\n",
              "      display: none;\n",
              "      fill: #1967D2;\n",
              "      height: 32px;\n",
              "      padding: 0 0 0 0;\n",
              "      width: 32px;\n",
              "    }\n",
              "\n",
              "    .colab-df-convert:hover {\n",
              "      background-color: #E2EBFA;\n",
              "      box-shadow: 0px 1px 2px rgba(60, 64, 67, 0.3), 0px 1px 3px 1px rgba(60, 64, 67, 0.15);\n",
              "      fill: #174EA6;\n",
              "    }\n",
              "\n",
              "    [theme=dark] .colab-df-convert {\n",
              "      background-color: #3B4455;\n",
              "      fill: #D2E3FC;\n",
              "    }\n",
              "\n",
              "    [theme=dark] .colab-df-convert:hover {\n",
              "      background-color: #434B5C;\n",
              "      box-shadow: 0px 1px 3px 1px rgba(0, 0, 0, 0.15);\n",
              "      filter: drop-shadow(0px 1px 2px rgba(0, 0, 0, 0.3));\n",
              "      fill: #FFFFFF;\n",
              "    }\n",
              "  </style>\n",
              "\n",
              "      <script>\n",
              "        const buttonEl =\n",
              "          document.querySelector('#df-9ceae6f6-fc80-485e-a98c-22ffc8dbfed3 button.colab-df-convert');\n",
              "        buttonEl.style.display =\n",
              "          google.colab.kernel.accessAllowed ? 'block' : 'none';\n",
              "\n",
              "        async function convertToInteractive(key) {\n",
              "          const element = document.querySelector('#df-9ceae6f6-fc80-485e-a98c-22ffc8dbfed3');\n",
              "          const dataTable =\n",
              "            await google.colab.kernel.invokeFunction('convertToInteractive',\n",
              "                                                     [key], {});\n",
              "          if (!dataTable) return;\n",
              "\n",
              "          const docLinkHtml = 'Like what you see? Visit the ' +\n",
              "            '<a target=\"_blank\" href=https://colab.research.google.com/notebooks/data_table.ipynb>data table notebook</a>'\n",
              "            + ' to learn more about interactive tables.';\n",
              "          element.innerHTML = '';\n",
              "          dataTable['output_type'] = 'display_data';\n",
              "          await google.colab.output.renderOutput(dataTable, element);\n",
              "          const docLink = document.createElement('div');\n",
              "          docLink.innerHTML = docLinkHtml;\n",
              "          element.appendChild(docLink);\n",
              "        }\n",
              "      </script>\n",
              "    </div>\n",
              "  </div>\n",
              "  "
            ]
          },
          "metadata": {},
          "execution_count": 7
        }
      ]
    },
    {
      "cell_type": "markdown",
      "source": [
        "**Activity 1: Descriptive statistical**:\n",
        "\n",
        "* this\n",
        "describe function we can understand the unique, top and frequent values of\n",
        "categorical features\n",
        "*  . And we can find mean, std, min, max and percentile\n",
        "values of continuous features.\n",
        "\n",
        "\n"
      ],
      "metadata": {
        "id": "aq9LkCZeYmQA"
      }
    },
    {
      "cell_type": "code",
      "source": [
        "dataset.describe()\n"
      ],
      "metadata": {
        "colab": {
          "base_uri": "https://localhost:8080/",
          "height": 411
        },
        "id": "jhzQ2zyQInvg",
        "outputId": "cdabdd8a-7bb2-4f15-8630-c375a5fe4551"
      },
      "execution_count": null,
      "outputs": [
        {
          "output_type": "execute_result",
          "data": {
            "text/plain": [
              "          YEAR       QUARTER         MONTH  DAY_OF_MONTH   DAY_OF_WEEK  \\\n",
              "count  11231.0  11231.000000  11231.000000  11231.000000  11231.000000   \n",
              "mean    2016.0      2.544475      6.628973     15.790758      3.960199   \n",
              "std        0.0      1.090701      3.354678      8.782056      1.995257   \n",
              "min     2016.0      1.000000      1.000000      1.000000      1.000000   \n",
              "25%     2016.0      2.000000      4.000000      8.000000      2.000000   \n",
              "50%     2016.0      3.000000      7.000000     16.000000      4.000000   \n",
              "75%     2016.0      3.000000      9.000000     23.000000      6.000000   \n",
              "max     2016.0      4.000000     12.000000     31.000000      7.000000   \n",
              "\n",
              "             FL_NUM  ORIGIN_AIRPORT_ID  DEST_AIRPORT_ID  CRS_DEP_TIME  \\\n",
              "count  11231.000000       11231.000000     11231.000000  11231.000000   \n",
              "mean    1334.325617       12334.516695     12302.274508   1320.798326   \n",
              "std      811.875227        1595.026510      1601.988550    490.737845   \n",
              "min        7.000000       10397.000000     10397.000000     10.000000   \n",
              "25%      624.000000       10397.000000     10397.000000    905.000000   \n",
              "50%     1267.000000       12478.000000     12478.000000   1320.000000   \n",
              "75%     2032.000000       13487.000000     13487.000000   1735.000000   \n",
              "max     2853.000000       14747.000000     14747.000000   2359.000000   \n",
              "\n",
              "           DEP_TIME  ...  CRS_ARR_TIME      ARR_TIME     ARR_DELAY  \\\n",
              "count  11124.000000  ...  11231.000000  11116.000000  11043.000000   \n",
              "mean    1327.189410  ...   1537.312795   1523.978499     -2.573123   \n",
              "std      500.306462  ...    502.512494    512.536041     39.232521   \n",
              "min        1.000000  ...      2.000000      1.000000    -67.000000   \n",
              "25%      905.000000  ...   1130.000000   1135.000000    -19.000000   \n",
              "50%     1324.000000  ...   1559.000000   1547.000000    -10.000000   \n",
              "75%     1739.000000  ...   1952.000000   1945.000000      1.000000   \n",
              "max     2400.000000  ...   2359.000000   2400.000000    615.000000   \n",
              "\n",
              "          ARR_DEL15     CANCELLED      DIVERTED  CRS_ELAPSED_TIME  \\\n",
              "count  11043.000000  11231.000000  11231.000000      11231.000000   \n",
              "mean       0.124513      0.010150      0.006589        190.652124   \n",
              "std        0.330181      0.100241      0.080908         78.386317   \n",
              "min        0.000000      0.000000      0.000000         93.000000   \n",
              "25%        0.000000      0.000000      0.000000        127.000000   \n",
              "50%        0.000000      0.000000      0.000000        159.000000   \n",
              "75%        0.000000      0.000000      0.000000        255.000000   \n",
              "max        1.000000      1.000000      1.000000        397.000000   \n",
              "\n",
              "       ACTUAL_ELAPSED_TIME      DISTANCE  Unnamed: 25  \n",
              "count         11043.000000  11231.000000          0.0  \n",
              "mean            179.661233   1161.031965          NaN  \n",
              "std              77.940399    643.683379          NaN  \n",
              "min              75.000000    509.000000          NaN  \n",
              "25%             117.000000    594.000000          NaN  \n",
              "50%             149.000000    907.000000          NaN  \n",
              "75%             236.000000   1927.000000          NaN  \n",
              "max             428.000000   2422.000000          NaN  \n",
              "\n",
              "[8 rows x 22 columns]"
            ],
            "text/html": [
              "\n",
              "  <div id=\"df-3cf059f0-4772-4113-99b4-818d92eeae82\">\n",
              "    <div class=\"colab-df-container\">\n",
              "      <div>\n",
              "<style scoped>\n",
              "    .dataframe tbody tr th:only-of-type {\n",
              "        vertical-align: middle;\n",
              "    }\n",
              "\n",
              "    .dataframe tbody tr th {\n",
              "        vertical-align: top;\n",
              "    }\n",
              "\n",
              "    .dataframe thead th {\n",
              "        text-align: right;\n",
              "    }\n",
              "</style>\n",
              "<table border=\"1\" class=\"dataframe\">\n",
              "  <thead>\n",
              "    <tr style=\"text-align: right;\">\n",
              "      <th></th>\n",
              "      <th>YEAR</th>\n",
              "      <th>QUARTER</th>\n",
              "      <th>MONTH</th>\n",
              "      <th>DAY_OF_MONTH</th>\n",
              "      <th>DAY_OF_WEEK</th>\n",
              "      <th>FL_NUM</th>\n",
              "      <th>ORIGIN_AIRPORT_ID</th>\n",
              "      <th>DEST_AIRPORT_ID</th>\n",
              "      <th>CRS_DEP_TIME</th>\n",
              "      <th>DEP_TIME</th>\n",
              "      <th>...</th>\n",
              "      <th>CRS_ARR_TIME</th>\n",
              "      <th>ARR_TIME</th>\n",
              "      <th>ARR_DELAY</th>\n",
              "      <th>ARR_DEL15</th>\n",
              "      <th>CANCELLED</th>\n",
              "      <th>DIVERTED</th>\n",
              "      <th>CRS_ELAPSED_TIME</th>\n",
              "      <th>ACTUAL_ELAPSED_TIME</th>\n",
              "      <th>DISTANCE</th>\n",
              "      <th>Unnamed: 25</th>\n",
              "    </tr>\n",
              "  </thead>\n",
              "  <tbody>\n",
              "    <tr>\n",
              "      <th>count</th>\n",
              "      <td>11231.0</td>\n",
              "      <td>11231.000000</td>\n",
              "      <td>11231.000000</td>\n",
              "      <td>11231.000000</td>\n",
              "      <td>11231.000000</td>\n",
              "      <td>11231.000000</td>\n",
              "      <td>11231.000000</td>\n",
              "      <td>11231.000000</td>\n",
              "      <td>11231.000000</td>\n",
              "      <td>11124.000000</td>\n",
              "      <td>...</td>\n",
              "      <td>11231.000000</td>\n",
              "      <td>11116.000000</td>\n",
              "      <td>11043.000000</td>\n",
              "      <td>11043.000000</td>\n",
              "      <td>11231.000000</td>\n",
              "      <td>11231.000000</td>\n",
              "      <td>11231.000000</td>\n",
              "      <td>11043.000000</td>\n",
              "      <td>11231.000000</td>\n",
              "      <td>0.0</td>\n",
              "    </tr>\n",
              "    <tr>\n",
              "      <th>mean</th>\n",
              "      <td>2016.0</td>\n",
              "      <td>2.544475</td>\n",
              "      <td>6.628973</td>\n",
              "      <td>15.790758</td>\n",
              "      <td>3.960199</td>\n",
              "      <td>1334.325617</td>\n",
              "      <td>12334.516695</td>\n",
              "      <td>12302.274508</td>\n",
              "      <td>1320.798326</td>\n",
              "      <td>1327.189410</td>\n",
              "      <td>...</td>\n",
              "      <td>1537.312795</td>\n",
              "      <td>1523.978499</td>\n",
              "      <td>-2.573123</td>\n",
              "      <td>0.124513</td>\n",
              "      <td>0.010150</td>\n",
              "      <td>0.006589</td>\n",
              "      <td>190.652124</td>\n",
              "      <td>179.661233</td>\n",
              "      <td>1161.031965</td>\n",
              "      <td>NaN</td>\n",
              "    </tr>\n",
              "    <tr>\n",
              "      <th>std</th>\n",
              "      <td>0.0</td>\n",
              "      <td>1.090701</td>\n",
              "      <td>3.354678</td>\n",
              "      <td>8.782056</td>\n",
              "      <td>1.995257</td>\n",
              "      <td>811.875227</td>\n",
              "      <td>1595.026510</td>\n",
              "      <td>1601.988550</td>\n",
              "      <td>490.737845</td>\n",
              "      <td>500.306462</td>\n",
              "      <td>...</td>\n",
              "      <td>502.512494</td>\n",
              "      <td>512.536041</td>\n",
              "      <td>39.232521</td>\n",
              "      <td>0.330181</td>\n",
              "      <td>0.100241</td>\n",
              "      <td>0.080908</td>\n",
              "      <td>78.386317</td>\n",
              "      <td>77.940399</td>\n",
              "      <td>643.683379</td>\n",
              "      <td>NaN</td>\n",
              "    </tr>\n",
              "    <tr>\n",
              "      <th>min</th>\n",
              "      <td>2016.0</td>\n",
              "      <td>1.000000</td>\n",
              "      <td>1.000000</td>\n",
              "      <td>1.000000</td>\n",
              "      <td>1.000000</td>\n",
              "      <td>7.000000</td>\n",
              "      <td>10397.000000</td>\n",
              "      <td>10397.000000</td>\n",
              "      <td>10.000000</td>\n",
              "      <td>1.000000</td>\n",
              "      <td>...</td>\n",
              "      <td>2.000000</td>\n",
              "      <td>1.000000</td>\n",
              "      <td>-67.000000</td>\n",
              "      <td>0.000000</td>\n",
              "      <td>0.000000</td>\n",
              "      <td>0.000000</td>\n",
              "      <td>93.000000</td>\n",
              "      <td>75.000000</td>\n",
              "      <td>509.000000</td>\n",
              "      <td>NaN</td>\n",
              "    </tr>\n",
              "    <tr>\n",
              "      <th>25%</th>\n",
              "      <td>2016.0</td>\n",
              "      <td>2.000000</td>\n",
              "      <td>4.000000</td>\n",
              "      <td>8.000000</td>\n",
              "      <td>2.000000</td>\n",
              "      <td>624.000000</td>\n",
              "      <td>10397.000000</td>\n",
              "      <td>10397.000000</td>\n",
              "      <td>905.000000</td>\n",
              "      <td>905.000000</td>\n",
              "      <td>...</td>\n",
              "      <td>1130.000000</td>\n",
              "      <td>1135.000000</td>\n",
              "      <td>-19.000000</td>\n",
              "      <td>0.000000</td>\n",
              "      <td>0.000000</td>\n",
              "      <td>0.000000</td>\n",
              "      <td>127.000000</td>\n",
              "      <td>117.000000</td>\n",
              "      <td>594.000000</td>\n",
              "      <td>NaN</td>\n",
              "    </tr>\n",
              "    <tr>\n",
              "      <th>50%</th>\n",
              "      <td>2016.0</td>\n",
              "      <td>3.000000</td>\n",
              "      <td>7.000000</td>\n",
              "      <td>16.000000</td>\n",
              "      <td>4.000000</td>\n",
              "      <td>1267.000000</td>\n",
              "      <td>12478.000000</td>\n",
              "      <td>12478.000000</td>\n",
              "      <td>1320.000000</td>\n",
              "      <td>1324.000000</td>\n",
              "      <td>...</td>\n",
              "      <td>1559.000000</td>\n",
              "      <td>1547.000000</td>\n",
              "      <td>-10.000000</td>\n",
              "      <td>0.000000</td>\n",
              "      <td>0.000000</td>\n",
              "      <td>0.000000</td>\n",
              "      <td>159.000000</td>\n",
              "      <td>149.000000</td>\n",
              "      <td>907.000000</td>\n",
              "      <td>NaN</td>\n",
              "    </tr>\n",
              "    <tr>\n",
              "      <th>75%</th>\n",
              "      <td>2016.0</td>\n",
              "      <td>3.000000</td>\n",
              "      <td>9.000000</td>\n",
              "      <td>23.000000</td>\n",
              "      <td>6.000000</td>\n",
              "      <td>2032.000000</td>\n",
              "      <td>13487.000000</td>\n",
              "      <td>13487.000000</td>\n",
              "      <td>1735.000000</td>\n",
              "      <td>1739.000000</td>\n",
              "      <td>...</td>\n",
              "      <td>1952.000000</td>\n",
              "      <td>1945.000000</td>\n",
              "      <td>1.000000</td>\n",
              "      <td>0.000000</td>\n",
              "      <td>0.000000</td>\n",
              "      <td>0.000000</td>\n",
              "      <td>255.000000</td>\n",
              "      <td>236.000000</td>\n",
              "      <td>1927.000000</td>\n",
              "      <td>NaN</td>\n",
              "    </tr>\n",
              "    <tr>\n",
              "      <th>max</th>\n",
              "      <td>2016.0</td>\n",
              "      <td>4.000000</td>\n",
              "      <td>12.000000</td>\n",
              "      <td>31.000000</td>\n",
              "      <td>7.000000</td>\n",
              "      <td>2853.000000</td>\n",
              "      <td>14747.000000</td>\n",
              "      <td>14747.000000</td>\n",
              "      <td>2359.000000</td>\n",
              "      <td>2400.000000</td>\n",
              "      <td>...</td>\n",
              "      <td>2359.000000</td>\n",
              "      <td>2400.000000</td>\n",
              "      <td>615.000000</td>\n",
              "      <td>1.000000</td>\n",
              "      <td>1.000000</td>\n",
              "      <td>1.000000</td>\n",
              "      <td>397.000000</td>\n",
              "      <td>428.000000</td>\n",
              "      <td>2422.000000</td>\n",
              "      <td>NaN</td>\n",
              "    </tr>\n",
              "  </tbody>\n",
              "</table>\n",
              "<p>8 rows × 22 columns</p>\n",
              "</div>\n",
              "      <button class=\"colab-df-convert\" onclick=\"convertToInteractive('df-3cf059f0-4772-4113-99b4-818d92eeae82')\"\n",
              "              title=\"Convert this dataframe to an interactive table.\"\n",
              "              style=\"display:none;\">\n",
              "        \n",
              "  <svg xmlns=\"http://www.w3.org/2000/svg\" height=\"24px\"viewBox=\"0 0 24 24\"\n",
              "       width=\"24px\">\n",
              "    <path d=\"M0 0h24v24H0V0z\" fill=\"none\"/>\n",
              "    <path d=\"M18.56 5.44l.94 2.06.94-2.06 2.06-.94-2.06-.94-.94-2.06-.94 2.06-2.06.94zm-11 1L8.5 8.5l.94-2.06 2.06-.94-2.06-.94L8.5 2.5l-.94 2.06-2.06.94zm10 10l.94 2.06.94-2.06 2.06-.94-2.06-.94-.94-2.06-.94 2.06-2.06.94z\"/><path d=\"M17.41 7.96l-1.37-1.37c-.4-.4-.92-.59-1.43-.59-.52 0-1.04.2-1.43.59L10.3 9.45l-7.72 7.72c-.78.78-.78 2.05 0 2.83L4 21.41c.39.39.9.59 1.41.59.51 0 1.02-.2 1.41-.59l7.78-7.78 2.81-2.81c.8-.78.8-2.07 0-2.86zM5.41 20L4 18.59l7.72-7.72 1.47 1.35L5.41 20z\"/>\n",
              "  </svg>\n",
              "      </button>\n",
              "      \n",
              "  <style>\n",
              "    .colab-df-container {\n",
              "      display:flex;\n",
              "      flex-wrap:wrap;\n",
              "      gap: 12px;\n",
              "    }\n",
              "\n",
              "    .colab-df-convert {\n",
              "      background-color: #E8F0FE;\n",
              "      border: none;\n",
              "      border-radius: 50%;\n",
              "      cursor: pointer;\n",
              "      display: none;\n",
              "      fill: #1967D2;\n",
              "      height: 32px;\n",
              "      padding: 0 0 0 0;\n",
              "      width: 32px;\n",
              "    }\n",
              "\n",
              "    .colab-df-convert:hover {\n",
              "      background-color: #E2EBFA;\n",
              "      box-shadow: 0px 1px 2px rgba(60, 64, 67, 0.3), 0px 1px 3px 1px rgba(60, 64, 67, 0.15);\n",
              "      fill: #174EA6;\n",
              "    }\n",
              "\n",
              "    [theme=dark] .colab-df-convert {\n",
              "      background-color: #3B4455;\n",
              "      fill: #D2E3FC;\n",
              "    }\n",
              "\n",
              "    [theme=dark] .colab-df-convert:hover {\n",
              "      background-color: #434B5C;\n",
              "      box-shadow: 0px 1px 3px 1px rgba(0, 0, 0, 0.15);\n",
              "      filter: drop-shadow(0px 1px 2px rgba(0, 0, 0, 0.3));\n",
              "      fill: #FFFFFF;\n",
              "    }\n",
              "  </style>\n",
              "\n",
              "      <script>\n",
              "        const buttonEl =\n",
              "          document.querySelector('#df-3cf059f0-4772-4113-99b4-818d92eeae82 button.colab-df-convert');\n",
              "        buttonEl.style.display =\n",
              "          google.colab.kernel.accessAllowed ? 'block' : 'none';\n",
              "\n",
              "        async function convertToInteractive(key) {\n",
              "          const element = document.querySelector('#df-3cf059f0-4772-4113-99b4-818d92eeae82');\n",
              "          const dataTable =\n",
              "            await google.colab.kernel.invokeFunction('convertToInteractive',\n",
              "                                                     [key], {});\n",
              "          if (!dataTable) return;\n",
              "\n",
              "          const docLinkHtml = 'Like what you see? Visit the ' +\n",
              "            '<a target=\"_blank\" href=https://colab.research.google.com/notebooks/data_table.ipynb>data table notebook</a>'\n",
              "            + ' to learn more about interactive tables.';\n",
              "          element.innerHTML = '';\n",
              "          dataTable['output_type'] = 'display_data';\n",
              "          await google.colab.output.renderOutput(dataTable, element);\n",
              "          const docLink = document.createElement('div');\n",
              "          docLink.innerHTML = docLinkHtml;\n",
              "          element.appendChild(docLink);\n",
              "        }\n",
              "      </script>\n",
              "    </div>\n",
              "  </div>\n",
              "  "
            ]
          },
          "metadata": {},
          "execution_count": 77
        }
      ]
    },
    {
      "cell_type": "markdown",
      "source": [
        "**Activity 2: Visual analysis** :\n",
        "\n",
        "\n",
        "*  the process of using visual representations, such as charts,\n",
        "plots, and graphs, to explore and understand data\n",
        "\n",
        "*   It is a way to quickly\n",
        "identify patterns, trends, and outliers in the data, which can help to gain\n",
        "insights and make informed decisions\n",
        "\n",
        "**Activity 2.1: Univariate analysis** :\n",
        "\n",
        "\n",
        "1.  Here we have displayed two different graphs such as displot and\n",
        "regplot.\n",
        "\n",
        "\n",
        "\n",
        "\n"
      ],
      "metadata": {
        "id": "duDju_S-ZD_W"
      }
    },
    {
      "cell_type": "code",
      "source": [
        "sns.displot(dataset.MONTH)"
      ],
      "metadata": {
        "colab": {
          "base_uri": "https://localhost:8080/",
          "height": 386
        },
        "id": "OTJvoTWCJRsR",
        "outputId": "a053387f-4dc5-478d-cc89-1558b26c55c8"
      },
      "execution_count": null,
      "outputs": [
        {
          "output_type": "execute_result",
          "data": {
            "text/plain": [
              "<seaborn.axisgrid.FacetGrid at 0x7f380082b520>"
            ]
          },
          "metadata": {},
          "execution_count": 119
        },
        {
          "output_type": "display_data",
          "data": {
            "text/plain": [
              "<Figure size 360x360 with 1 Axes>"
            ],
            "image/png": "[encoded data removed]"
          },
          "metadata": {
            "needs_background": "light"
          }
        }
      ]
    },
    {
      "cell_type": "markdown",
      "source": [
        "**regplot** :\n",
        "\n",
        "\n",
        "* This method is used to plot data and a linear regression model fit. There are a number of mutually exclusive options for estimating the regression model\n",
        "\n",
        "* x, y: These are Input variables. If strings, these should correspond with column names in “data”. When pandas objects are used, axes will be labeled with the series name.\n",
        "\n"
      ],
      "metadata": {
        "id": "iWCYvc6Ka_4N"
      }
    },
    {
      "cell_type": "markdown",
      "source": [
        "**Activity 2.2: Bivariate analysis** :"
      ],
      "metadata": {
        "id": "YhBlQY9Cbc0s"
      }
    },
    {
      "cell_type": "code",
      "source": [
        "sns.regplot(x='ARR_DELAY',y='ARR_DEL15',data=dataset)"
      ],
      "metadata": {
        "colab": {
          "base_uri": "https://localhost:8080/",
          "height": 297
        },
        "id": "-li1-iU4KEKN",
        "outputId": "43a48457-a831-4589-f455-3fe4dc23bc15"
      },
      "execution_count": null,
      "outputs": [
        {
          "output_type": "execute_result",
          "data": {
            "text/plain": [
              "<Axes: xlabel='ARR_DELAY', ylabel='ARR_DEL15'>"
            ]
          },
          "metadata": {},
          "execution_count": 79
        },
        {
          "output_type": "display_data",
          "data": {
            "text/plain": [
              "<Figure size 432x288 with 1 Axes>"
            ],
            "image/png": "[encoded data removed]"
          },
          "metadata": {
            "needs_background": "light"
          }
        }
      ]
    },
    {
      "cell_type": "code",
      "source": [
        "sns.catplot(x='ARR_DEL15',y='ARR_DELAY',kind='bar',data=dataset)"
      ],
      "metadata": {
        "colab": {
          "base_uri": "https://localhost:8080/",
          "height": 386
        },
        "id": "MJPZvUznLSy3",
        "outputId": "3018a15e-efe8-46da-a04d-da40e3515a4f"
      },
      "execution_count": null,
      "outputs": [
        {
          "output_type": "execute_result",
          "data": {
            "text/plain": [
              "<seaborn.axisgrid.FacetGrid at 0x7f38002e28b0>"
            ]
          },
          "metadata": {},
          "execution_count": 80
        },
        {
          "output_type": "display_data",
          "data": {
            "text/plain": [
              "<Figure size 360x360 with 1 Axes>"
            ],
            "image/png": "[encoded data removed]"
          },
          "metadata": {
            "needs_background": "light"
          }
        }
      ]
    },
    {
      "cell_type": "markdown",
      "source": [
        "***Activity 2.3: Multivariate analysis*** :\n",
        "\n",
        "*  multivariate analysis is to find the relation between\n",
        "multiple features\n",
        "\n",
        "*   Here we have used a swarm plot from the seaborn\n",
        "package.\n",
        "\n",
        "\n"
      ],
      "metadata": {
        "id": "xM3RXJFpbl8E"
      }
    },
    {
      "cell_type": "code",
      "source": [
        "sns.heatmap(dataset.corr())"
      ],
      "metadata": {
        "colab": {
          "base_uri": "https://localhost:8080/",
          "height": 375
        },
        "id": "qa2nXKYkOOjT",
        "outputId": "ccc1bc2c-0e38-4aec-dff3-3dc978b3bb5d"
      },
      "execution_count": null,
      "outputs": [
        {
          "output_type": "execute_result",
          "data": {
            "text/plain": [
              "<Axes: >"
            ]
          },
          "metadata": {},
          "execution_count": 86
        },
        {
          "output_type": "display_data",
          "data": {
            "text/plain": [
              "<Figure size 432x288 with 2 Axes>"
            ],
            "image/png": "[encoded data removed]"
          },
          "metadata": {
            "needs_background": "light"
          }
        }
      ]
    },
    {
      "cell_type": "markdown",
      "source": [
        "**Splitting data into dependent and independent variables**"
      ],
      "metadata": {
        "id": "GTSpqrpLA1we"
      }
    },
    {
      "cell_type": "code",
      "source": [
        "dataset = pd.get_dummies(dataset, columns=['ORIGIN','DEST'])"
      ],
      "metadata": {
        "id": "wnoi1sLNBCHt"
      },
      "execution_count": null,
      "outputs": []
    },
    {
      "cell_type": "code",
      "source": [
        "X = dataset.iloc[:, 0:8].values\n",
        "y = dataset.iloc[:, 8:9].values"
      ],
      "metadata": {
        "id": "9WPYYKHUBYC8"
      },
      "execution_count": null,
      "outputs": []
    },
    {
      "cell_type": "markdown",
      "source": [
        "**Splitting data into train and test** :\n",
        "\n",
        "\n",
        "1.  first split the dataset into x and y and then split the data set\n",
        "\n",
        "2.  On x variable, dataset is passed with dropping\n",
        "the target variable. \n",
        "\n",
        "3.   And on y target variable is passed\n",
        "\n",
        "4.   For splitting training\n",
        "and testing data we are using the train_test_split() function from sklearn\n",
        "\n",
        "5.  As\n",
        "parameters, we are passing x, y, test_size, random_state.\n",
        "\n",
        "\n",
        "\n",
        "\n",
        "\n",
        "\n",
        "\n",
        "\n",
        "\n"
      ],
      "metadata": {
        "id": "I7joLZ2mCaFz"
      }
    },
    {
      "cell_type": "code",
      "source": [
        "x_train,x_test,y_train,y_test = train_test_split(x,y,test_size=0.2,random_state=0)\n",
        "                                                 "
      ],
      "metadata": {
        "id": "5EvC6BMHU4Bt"
      },
      "execution_count": null,
      "outputs": []
    },
    {
      "cell_type": "code",
      "source": [
        "train_x,test_x,train_y,test_y = train_test_split(dataset.drop('ARR_DEL15', axis=1), dataset['ARR_DEL15'], test_size=0.2, random_state=0)"
      ],
      "metadata": {
        "id": "JZvjEfQeWW8X"
      },
      "execution_count": null,
      "outputs": []
    },
    {
      "cell_type": "code",
      "source": [
        "x_test.shape"
      ],
      "metadata": {
        "colab": {
          "base_uri": "https://localhost:8080/"
        },
        "id": "n9YDd6VpXsdz",
        "outputId": "92c036d1-7a6d-4c57-b671-44a2075bf595"
      },
      "execution_count": null,
      "outputs": [
        {
          "output_type": "execute_result",
          "data": {
            "text/plain": [
              "(2247, 8)"
            ]
          },
          "metadata": {},
          "execution_count": 114
        }
      ]
    },
    {
      "cell_type": "code",
      "source": [
        "x_train.shape"
      ],
      "metadata": {
        "colab": {
          "base_uri": "https://localhost:8080/"
        },
        "id": "4ZSWAntyX22E",
        "outputId": "0eaecdf9-40fa-4325-8ae0-21504abaa16d"
      },
      "execution_count": null,
      "outputs": [
        {
          "output_type": "execute_result",
          "data": {
            "text/plain": [
              "(8984, 8)"
            ]
          },
          "metadata": {},
          "execution_count": 115
        }
      ]
    },
    {
      "cell_type": "code",
      "source": [
        "y_test.shape"
      ],
      "metadata": {
        "colab": {
          "base_uri": "https://localhost:8080/"
        },
        "id": "eb_5FqGgX6yV",
        "outputId": "1400fc25-8bc2-43ce-f09e-cf81851c367c"
      },
      "execution_count": null,
      "outputs": [
        {
          "output_type": "execute_result",
          "data": {
            "text/plain": [
              "(2247, 1)"
            ]
          },
          "metadata": {},
          "execution_count": 116
        }
      ]
    },
    {
      "cell_type": "code",
      "source": [
        "y_train.shape"
      ],
      "metadata": {
        "colab": {
          "base_uri": "https://localhost:8080/"
        },
        "id": "WYQmWXHxX_kL",
        "outputId": "ac16204e-1398-40e4-fd83-4976af4dba24"
      },
      "execution_count": null,
      "outputs": [
        {
          "output_type": "execute_result",
          "data": {
            "text/plain": [
              "(8984, 1)"
            ]
          },
          "metadata": {},
          "execution_count": 117
        }
      ]
    }
  ]
}